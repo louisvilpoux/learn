{
  "nbformat": 4,
  "nbformat_minor": 0,
  "metadata": {
    "colab": {
      "name": "handwritten_reco_dense.ipynb",
      "provenance": [],
      "collapsed_sections": []
    },
    "kernelspec": {
      "name": "python3",
      "display_name": "Python 3"
    }
  },
  "cells": [
    {
      "cell_type": "code",
      "metadata": {
        "id": "O1FUBtunoGLv",
        "colab_type": "code",
        "colab": {}
      },
      "source": [
        "import tensorflow as tf\n",
        "from tensorflow import keras\n",
        "import numpy as np\n",
        "import pandas as pd"
      ],
      "execution_count": 0,
      "outputs": []
    },
    {
      "cell_type": "code",
      "metadata": {
        "id": "fbj_lg980ToE",
        "colab_type": "code",
        "colab": {}
      },
      "source": [
        "import matplotlib.pyplot as plt\n",
        "from PIL import Image"
      ],
      "execution_count": 0,
      "outputs": []
    },
    {
      "cell_type": "code",
      "metadata": {
        "id": "H5AHOcSToNYL",
        "colab_type": "code",
        "outputId": "70fa403e-8b3f-4013-937c-24ed51fab69f",
        "colab": {
          "base_uri": "https://localhost:8080/",
          "height": 34
        }
      },
      "source": [
        "from keras.datasets import mnist"
      ],
      "execution_count": 3,
      "outputs": [
        {
          "output_type": "stream",
          "text": [
            "Using TensorFlow backend.\n"
          ],
          "name": "stderr"
        }
      ]
    },
    {
      "cell_type": "markdown",
      "metadata": {
        "id": "Q91ZDZWg64Fr",
        "colab_type": "text"
      },
      "source": [
        "# Download data"
      ]
    },
    {
      "cell_type": "code",
      "metadata": {
        "id": "dNiB6LJNoe3u",
        "colab_type": "code",
        "outputId": "d676ad04-593d-4c61-909e-3cc57ebeb15e",
        "colab": {
          "base_uri": "https://localhost:8080/",
          "height": 51
        }
      },
      "source": [
        "(X_train_full, y_train_full), (X_test, y_test) = mnist.load_data()"
      ],
      "execution_count": 4,
      "outputs": [
        {
          "output_type": "stream",
          "text": [
            "Downloading data from https://s3.amazonaws.com/img-datasets/mnist.npz\n",
            "11493376/11490434 [==============================] - 0s 0us/step\n"
          ],
          "name": "stdout"
        }
      ]
    },
    {
      "cell_type": "code",
      "metadata": {
        "id": "0MUO2Fskpwtw",
        "colab_type": "code",
        "outputId": "4cb2ca0d-d6c6-4aa0-c6ae-b29df8b0c341",
        "colab": {
          "base_uri": "https://localhost:8080/",
          "height": 34
        }
      },
      "source": [
        "X_train_full.shape"
      ],
      "execution_count": 5,
      "outputs": [
        {
          "output_type": "execute_result",
          "data": {
            "text/plain": [
              "(60000, 28, 28)"
            ]
          },
          "metadata": {
            "tags": []
          },
          "execution_count": 5
        }
      ]
    },
    {
      "cell_type": "markdown",
      "metadata": {
        "id": "syCG95qf6-6U",
        "colab_type": "text"
      },
      "source": [
        "# Prepare data"
      ]
    },
    {
      "cell_type": "code",
      "metadata": {
        "id": "AEb8wMGmosiZ",
        "colab_type": "code",
        "colab": {}
      },
      "source": [
        "#get intensity between 0 and 1 instead of 0 and 255\n",
        "X_valid, X_train = X_train_full[:5000] / 255.0, X_train_full[5000:] / 255.0\n",
        "y_valid, y_train = y_train_full[:5000], y_train_full[5000:]"
      ],
      "execution_count": 0,
      "outputs": []
    },
    {
      "cell_type": "code",
      "metadata": {
        "id": "FIzYfqy0pLI3",
        "colab_type": "code",
        "outputId": "904f136d-7b88-4351-bd9e-d65c4ba8252d",
        "colab": {
          "base_uri": "https://localhost:8080/",
          "height": 34
        }
      },
      "source": [
        "X_valid.shape"
      ],
      "execution_count": 7,
      "outputs": [
        {
          "output_type": "execute_result",
          "data": {
            "text/plain": [
              "(5000, 28, 28)"
            ]
          },
          "metadata": {
            "tags": []
          },
          "execution_count": 7
        }
      ]
    },
    {
      "cell_type": "code",
      "metadata": {
        "id": "RqJcmeIupt9z",
        "colab_type": "code",
        "outputId": "66cf9cc2-333e-4e9a-facd-21cb62a40b08",
        "colab": {
          "base_uri": "https://localhost:8080/",
          "height": 51
        }
      },
      "source": [
        "print(np.unique(y_train,return_counts=True))\n",
        "print(np.unique(y_valid,return_counts=True))"
      ],
      "execution_count": 8,
      "outputs": [
        {
          "output_type": "stream",
          "text": [
            "(array([0, 1, 2, 3, 4, 5, 6, 7, 8, 9], dtype=uint8), array([5444, 6179, 5470, 5638, 5307, 4987, 5417, 5715, 5389, 5454]))\n",
            "(array([0, 1, 2, 3, 4, 5, 6, 7, 8, 9], dtype=uint8), array([479, 563, 488, 493, 535, 434, 501, 550, 462, 495]))\n"
          ],
          "name": "stdout"
        }
      ]
    },
    {
      "cell_type": "markdown",
      "metadata": {
        "id": "1XIadz_d7Mkd",
        "colab_type": "text"
      },
      "source": [
        "# Create Neural Network"
      ]
    },
    {
      "cell_type": "code",
      "metadata": {
        "id": "VrBDNBNpqCyA",
        "colab_type": "code",
        "colab": {}
      },
      "source": [
        "model = keras.Sequential()\n",
        "model.add(keras.layers.Flatten(input_shape=[28, 28]))\n",
        "model.add(keras.layers.Dense(300, activation=\"relu\"))\n",
        "model.add(keras.layers.Dense(100, activation=\"relu\"))\n",
        "model.add(keras.layers.Dense(10, activation=\"softmax\"))"
      ],
      "execution_count": 0,
      "outputs": []
    },
    {
      "cell_type": "code",
      "metadata": {
        "id": "zy12MTjxqydC",
        "colab_type": "code",
        "outputId": "ea5a43c5-efe5-400c-9f02-b4f77793ecea",
        "colab": {
          "base_uri": "https://localhost:8080/",
          "height": 289
        }
      },
      "source": [
        "model.summary()"
      ],
      "execution_count": 10,
      "outputs": [
        {
          "output_type": "stream",
          "text": [
            "Model: \"sequential\"\n",
            "_________________________________________________________________\n",
            "Layer (type)                 Output Shape              Param #   \n",
            "=================================================================\n",
            "flatten (Flatten)            (None, 784)               0         \n",
            "_________________________________________________________________\n",
            "dense (Dense)                (None, 300)               235500    \n",
            "_________________________________________________________________\n",
            "dense_1 (Dense)              (None, 100)               30100     \n",
            "_________________________________________________________________\n",
            "dense_2 (Dense)              (None, 10)                1010      \n",
            "=================================================================\n",
            "Total params: 266,610\n",
            "Trainable params: 266,610\n",
            "Non-trainable params: 0\n",
            "_________________________________________________________________\n"
          ],
          "name": "stdout"
        }
      ]
    },
    {
      "cell_type": "code",
      "metadata": {
        "id": "aEPrYAWBqygE",
        "colab_type": "code",
        "colab": {}
      },
      "source": [
        "model.compile(loss=\"sparse_categorical_crossentropy\",optimizer=\"sgd\",metrics=[\"accuracy\"])"
      ],
      "execution_count": 0,
      "outputs": []
    },
    {
      "cell_type": "code",
      "metadata": {
        "id": "Csy7QIhSqyi4",
        "colab_type": "code",
        "outputId": "f1061432-da55-45f0-e60a-94f6e379864a",
        "colab": {
          "base_uri": "https://localhost:8080/",
          "height": 1000
        }
      },
      "source": [
        "history = model.fit(X_train, y_train, epochs=30,validation_data=(X_valid, y_valid))"
      ],
      "execution_count": 12,
      "outputs": [
        {
          "output_type": "stream",
          "text": [
            "Epoch 1/30\n",
            "1719/1719 [==============================] - 5s 3ms/step - loss: 0.6117 - accuracy: 0.8390 - val_loss: 0.3075 - val_accuracy: 0.9120\n",
            "Epoch 2/30\n",
            "1719/1719 [==============================] - 5s 3ms/step - loss: 0.2861 - accuracy: 0.9181 - val_loss: 0.2375 - val_accuracy: 0.9328\n",
            "Epoch 3/30\n",
            "1719/1719 [==============================] - 5s 3ms/step - loss: 0.2328 - accuracy: 0.9330 - val_loss: 0.2014 - val_accuracy: 0.9434\n",
            "Epoch 4/30\n",
            "1719/1719 [==============================] - 5s 3ms/step - loss: 0.1980 - accuracy: 0.9436 - val_loss: 0.1812 - val_accuracy: 0.9508\n",
            "Epoch 5/30\n",
            "1719/1719 [==============================] - 5s 3ms/step - loss: 0.1732 - accuracy: 0.9502 - val_loss: 0.1582 - val_accuracy: 0.9576\n",
            "Epoch 6/30\n",
            "1719/1719 [==============================] - 5s 3ms/step - loss: 0.1535 - accuracy: 0.9566 - val_loss: 0.1467 - val_accuracy: 0.9598\n",
            "Epoch 7/30\n",
            "1719/1719 [==============================] - 5s 3ms/step - loss: 0.1381 - accuracy: 0.9606 - val_loss: 0.1311 - val_accuracy: 0.9634\n",
            "Epoch 8/30\n",
            "1719/1719 [==============================] - 5s 3ms/step - loss: 0.1245 - accuracy: 0.9648 - val_loss: 0.1283 - val_accuracy: 0.9636\n",
            "Epoch 9/30\n",
            "1719/1719 [==============================] - 5s 3ms/step - loss: 0.1137 - accuracy: 0.9680 - val_loss: 0.1178 - val_accuracy: 0.9680\n",
            "Epoch 10/30\n",
            "1719/1719 [==============================] - 5s 3ms/step - loss: 0.1044 - accuracy: 0.9707 - val_loss: 0.1118 - val_accuracy: 0.9678\n",
            "Epoch 11/30\n",
            "1719/1719 [==============================] - 5s 3ms/step - loss: 0.0963 - accuracy: 0.9727 - val_loss: 0.1070 - val_accuracy: 0.9688\n",
            "Epoch 12/30\n",
            "1719/1719 [==============================] - 5s 3ms/step - loss: 0.0892 - accuracy: 0.9756 - val_loss: 0.1038 - val_accuracy: 0.9704\n",
            "Epoch 13/30\n",
            "1719/1719 [==============================] - 5s 3ms/step - loss: 0.0828 - accuracy: 0.9766 - val_loss: 0.0977 - val_accuracy: 0.9720\n",
            "Epoch 14/30\n",
            "1719/1719 [==============================] - 5s 3ms/step - loss: 0.0769 - accuracy: 0.9788 - val_loss: 0.0941 - val_accuracy: 0.9722\n",
            "Epoch 15/30\n",
            "1719/1719 [==============================] - 5s 3ms/step - loss: 0.0719 - accuracy: 0.9805 - val_loss: 0.0910 - val_accuracy: 0.9722\n",
            "Epoch 16/30\n",
            "1719/1719 [==============================] - 5s 3ms/step - loss: 0.0673 - accuracy: 0.9818 - val_loss: 0.0893 - val_accuracy: 0.9724\n",
            "Epoch 17/30\n",
            "1719/1719 [==============================] - 5s 3ms/step - loss: 0.0627 - accuracy: 0.9826 - val_loss: 0.0853 - val_accuracy: 0.9750\n",
            "Epoch 18/30\n",
            "1719/1719 [==============================] - 5s 3ms/step - loss: 0.0587 - accuracy: 0.9842 - val_loss: 0.0836 - val_accuracy: 0.9746\n",
            "Epoch 19/30\n",
            "1719/1719 [==============================] - 5s 3ms/step - loss: 0.0554 - accuracy: 0.9851 - val_loss: 0.0824 - val_accuracy: 0.9742\n",
            "Epoch 20/30\n",
            "1719/1719 [==============================] - 5s 3ms/step - loss: 0.0523 - accuracy: 0.9859 - val_loss: 0.0785 - val_accuracy: 0.9752\n",
            "Epoch 21/30\n",
            "1719/1719 [==============================] - 5s 3ms/step - loss: 0.0488 - accuracy: 0.9870 - val_loss: 0.0793 - val_accuracy: 0.9754\n",
            "Epoch 22/30\n",
            "1719/1719 [==============================] - 5s 3ms/step - loss: 0.0460 - accuracy: 0.9878 - val_loss: 0.0795 - val_accuracy: 0.9740\n",
            "Epoch 23/30\n",
            "1719/1719 [==============================] - 4s 3ms/step - loss: 0.0434 - accuracy: 0.9890 - val_loss: 0.0785 - val_accuracy: 0.9744\n",
            "Epoch 24/30\n",
            "1719/1719 [==============================] - 4s 3ms/step - loss: 0.0409 - accuracy: 0.9893 - val_loss: 0.0758 - val_accuracy: 0.9774\n",
            "Epoch 25/30\n",
            "1719/1719 [==============================] - 5s 3ms/step - loss: 0.0388 - accuracy: 0.9902 - val_loss: 0.0766 - val_accuracy: 0.9762\n",
            "Epoch 26/30\n",
            "1719/1719 [==============================] - 5s 3ms/step - loss: 0.0365 - accuracy: 0.9909 - val_loss: 0.0738 - val_accuracy: 0.9768\n",
            "Epoch 27/30\n",
            "1719/1719 [==============================] - 5s 3ms/step - loss: 0.0345 - accuracy: 0.9913 - val_loss: 0.0715 - val_accuracy: 0.9790\n",
            "Epoch 28/30\n",
            "1719/1719 [==============================] - 5s 3ms/step - loss: 0.0325 - accuracy: 0.9922 - val_loss: 0.0718 - val_accuracy: 0.9788\n",
            "Epoch 29/30\n",
            "1719/1719 [==============================] - 5s 3ms/step - loss: 0.0309 - accuracy: 0.9925 - val_loss: 0.0722 - val_accuracy: 0.9778\n",
            "Epoch 30/30\n",
            "1719/1719 [==============================] - 5s 3ms/step - loss: 0.0292 - accuracy: 0.9933 - val_loss: 0.0698 - val_accuracy: 0.9794\n"
          ],
          "name": "stdout"
        }
      ]
    },
    {
      "cell_type": "markdown",
      "metadata": {
        "id": "-96tpkwt7eOV",
        "colab_type": "text"
      },
      "source": [
        "# Visualize performance"
      ]
    },
    {
      "cell_type": "code",
      "metadata": {
        "id": "mrLR0tnOu74N",
        "colab_type": "code",
        "outputId": "150d81d0-122c-4521-dcae-5d0b005a38d1",
        "colab": {
          "base_uri": "https://localhost:8080/",
          "height": 324
        }
      },
      "source": [
        "pd.DataFrame(history.history).plot(figsize=(8, 5))\n",
        "plt.grid(True)\n",
        "plt.gca().set_ylim(0, 1) # set the vertical range to [0-1]\n",
        "plt.show()"
      ],
      "execution_count": 13,
      "outputs": [
        {
          "output_type": "display_data",
          "data": {
            "image/png": "[encoded data removed]",
            "text/plain": [
              "<Figure size 576x360 with 1 Axes>"
            ]
          },
          "metadata": {
            "tags": [],
            "needs_background": "light"
          }
        }
      ]
    },
    {
      "cell_type": "code",
      "metadata": {
        "id": "_j8RjvSXzyoS",
        "colab_type": "code",
        "outputId": "b3cb6899-3df4-44a3-c573-2f37eea7f1c1",
        "colab": {
          "base_uri": "https://localhost:8080/",
          "height": 51
        }
      },
      "source": [
        "model.evaluate(X_test,y_test)"
      ],
      "execution_count": 14,
      "outputs": [
        {
          "output_type": "stream",
          "text": [
            "313/313 [==============================] - 1s 2ms/step - loss: 12.4565 - accuracy: 0.9774\n"
          ],
          "name": "stdout"
        },
        {
          "output_type": "execute_result",
          "data": {
            "text/plain": [
              "[12.456469535827637, 0.977400004863739]"
            ]
          },
          "metadata": {
            "tags": []
          },
          "execution_count": 14
        }
      ]
    },
    {
      "cell_type": "markdown",
      "metadata": {
        "id": "xhyZncjq7pYm",
        "colab_type": "text"
      },
      "source": [
        "# Make prediction"
      ]
    },
    {
      "cell_type": "code",
      "metadata": {
        "id": "IG7oQcO81WDK",
        "colab_type": "code",
        "outputId": "a324a922-983d-4b7b-a2ed-9004369f94b4",
        "colab": {
          "base_uri": "https://localhost:8080/",
          "height": 45
        }
      },
      "source": [
        "Image.fromarray(X_test[1])"
      ],
      "execution_count": 15,
      "outputs": [
        {
          "output_type": "execute_result",
          "data": {
            "image/png": "[encoded data removed]",
            "text/plain": [
              "<PIL.Image.Image image mode=L size=28x28 at 0x7FE445879E80>"
            ]
          },
          "metadata": {
            "tags": []
          },
          "execution_count": 15
        }
      ]
    },
    {
      "cell_type": "code",
      "metadata": {
        "id": "l1Bhb-cn0ctc",
        "colab_type": "code",
        "outputId": "fda72273-53d9-4a6b-976a-d88eb8b896bb",
        "colab": {
          "base_uri": "https://localhost:8080/",
          "height": 34
        }
      },
      "source": [
        "np.argmax(model.predict(X_test[1:2]),axis=1)"
      ],
      "execution_count": 17,
      "outputs": [
        {
          "output_type": "execute_result",
          "data": {
            "text/plain": [
              "array([2])"
            ]
          },
          "metadata": {
            "tags": []
          },
          "execution_count": 17
        }
      ]
    },
    {
      "cell_type": "code",
      "metadata": {
        "id": "S9VGf2of4Gh_",
        "colab_type": "code",
        "colab": {}
      },
      "source": [
        ""
      ],
      "execution_count": 0,
      "outputs": []
    }
  ]
}