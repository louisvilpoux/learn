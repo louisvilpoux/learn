{
  "nbformat": 4,
  "nbformat_minor": 0,
  "metadata": {
    "colab": {
      "name": "handwritten_reco_cnn.ipynb",
      "provenance": [],
      "collapsed_sections": []
    },
    "kernelspec": {
      "name": "python3",
      "display_name": "Python 3"
    }
  },
  "cells": [
    {
      "cell_type": "code",
      "metadata": {
        "id": "4pcMiA_WyUJJ",
        "colab_type": "code",
        "colab": {}
      },
      "source": [
        "import tensorflow as tf\n",
        "from tensorflow import keras\n",
        "import numpy as np\n",
        "import pandas as pd"
      ],
      "execution_count": 0,
      "outputs": []
    },
    {
      "cell_type": "code",
      "metadata": {
        "id": "FAzCZBQ7yaTN",
        "colab_type": "code",
        "colab": {}
      },
      "source": [
        "import matplotlib.pyplot as plt\n",
        "from PIL import Image"
      ],
      "execution_count": 0,
      "outputs": []
    },
    {
      "cell_type": "code",
      "metadata": {
        "id": "LSTD_P8gybas",
        "colab_type": "code",
        "outputId": "1fb5a95c-dfa1-40d6-c2e1-33ea74368cd2",
        "colab": {
          "base_uri": "https://localhost:8080/",
          "height": 34
        }
      },
      "source": [
        "from keras.datasets import mnist"
      ],
      "execution_count": 3,
      "outputs": [
        {
          "output_type": "stream",
          "text": [
            "Using TensorFlow backend.\n"
          ],
          "name": "stderr"
        }
      ]
    },
    {
      "cell_type": "markdown",
      "metadata": {
        "id": "Qug3kEwpIVrq",
        "colab_type": "text"
      },
      "source": [
        "# Download data"
      ]
    },
    {
      "cell_type": "code",
      "metadata": {
        "id": "rqE6WAuvycdX",
        "colab_type": "code",
        "colab": {
          "base_uri": "https://localhost:8080/",
          "height": 51
        },
        "outputId": "d39be6b9-15e5-469e-8046-ad448b05c411"
      },
      "source": [
        "(X_train_full, y_train_full), (X_test, y_test) = mnist.load_data()"
      ],
      "execution_count": 4,
      "outputs": [
        {
          "output_type": "stream",
          "text": [
            "Downloading data from https://s3.amazonaws.com/img-datasets/mnist.npz\n",
            "11493376/11490434 [==============================] - 1s 0us/step\n"
          ],
          "name": "stdout"
        }
      ]
    },
    {
      "cell_type": "code",
      "metadata": {
        "id": "0yw_KwQYyeig",
        "colab_type": "code",
        "outputId": "ff2473eb-fc80-46e4-9eb3-be220a37680b",
        "colab": {
          "base_uri": "https://localhost:8080/",
          "height": 34
        }
      },
      "source": [
        "X_train_full.shape"
      ],
      "execution_count": 5,
      "outputs": [
        {
          "output_type": "execute_result",
          "data": {
            "text/plain": [
              "(60000, 28, 28)"
            ]
          },
          "metadata": {
            "tags": []
          },
          "execution_count": 5
        }
      ]
    },
    {
      "cell_type": "markdown",
      "metadata": {
        "id": "RK7GsR3vIbJv",
        "colab_type": "text"
      },
      "source": [
        "# Prepare data"
      ]
    },
    {
      "cell_type": "code",
      "metadata": {
        "id": "NpPKHMt8EjNp",
        "colab_type": "code",
        "colab": {}
      },
      "source": [
        "X_train_full = X_train_full.reshape(X_train_full.shape[0], 28, 28, 1)\n",
        "X_test = X_test.reshape(X_test.shape[0], 28, 28, 1)"
      ],
      "execution_count": 0,
      "outputs": []
    },
    {
      "cell_type": "code",
      "metadata": {
        "id": "bxqPcfUkyfIj",
        "colab_type": "code",
        "colab": {}
      },
      "source": [
        "#get intensity between 0 and 1 instead of 0 and 255\n",
        "X_valid, X_train = X_train_full[:5000] / 255.0, X_train_full[5000:] / 255.0\n",
        "y_valid, y_train = y_train_full[:5000], y_train_full[5000:]"
      ],
      "execution_count": 0,
      "outputs": []
    },
    {
      "cell_type": "code",
      "metadata": {
        "id": "uFtFl34YyrSy",
        "colab_type": "code",
        "outputId": "d5b1c9cb-6d18-4b84-d372-b16111dfcf51",
        "colab": {
          "base_uri": "https://localhost:8080/",
          "height": 34
        }
      },
      "source": [
        "X_valid.shape"
      ],
      "execution_count": 8,
      "outputs": [
        {
          "output_type": "execute_result",
          "data": {
            "text/plain": [
              "(5000, 28, 28, 1)"
            ]
          },
          "metadata": {
            "tags": []
          },
          "execution_count": 8
        }
      ]
    },
    {
      "cell_type": "code",
      "metadata": {
        "id": "dEwrdNR-ysaw",
        "colab_type": "code",
        "outputId": "a60cdfae-3b1e-4321-ca56-c87516f7d0ac",
        "colab": {
          "base_uri": "https://localhost:8080/",
          "height": 51
        }
      },
      "source": [
        "#classes are well spreaded\n",
        "print(np.unique(y_train,return_counts=True))\n",
        "print(np.unique(y_valid,return_counts=True))"
      ],
      "execution_count": 9,
      "outputs": [
        {
          "output_type": "stream",
          "text": [
            "(array([0, 1, 2, 3, 4, 5, 6, 7, 8, 9], dtype=uint8), array([5444, 6179, 5470, 5638, 5307, 4987, 5417, 5715, 5389, 5454]))\n",
            "(array([0, 1, 2, 3, 4, 5, 6, 7, 8, 9], dtype=uint8), array([479, 563, 488, 493, 535, 434, 501, 550, 462, 495]))\n"
          ],
          "name": "stdout"
        }
      ]
    },
    {
      "cell_type": "markdown",
      "metadata": {
        "id": "-Nk54SD0Ihdk",
        "colab_type": "text"
      },
      "source": [
        "# Create Neural Network"
      ]
    },
    {
      "cell_type": "code",
      "metadata": {
        "id": "lUQbV-clytxf",
        "colab_type": "code",
        "colab": {}
      },
      "source": [
        "model = keras.Sequential()\n",
        "model.add(keras.layers.Conv2D(filters=32,kernel_size=3,padding='same',input_shape=[28, 28, 1],activation=\"relu\"))\n",
        "model.add(keras.layers.MaxPool2D(pool_size=(2,2)))\n",
        "model.add(keras.layers.Conv2D(filters=64,kernel_size=3,padding='same',activation=\"relu\"))\n",
        "model.add(keras.layers.MaxPool2D(pool_size=(2,2)))\n",
        "model.add(keras.layers.Flatten())\n",
        "model.add(keras.layers.Dense(128, activation='relu'))\n",
        "model.add(keras.layers.Dense(10, activation=\"softmax\"))"
      ],
      "execution_count": 0,
      "outputs": []
    },
    {
      "cell_type": "code",
      "metadata": {
        "id": "wJqk-4LO3n7Z",
        "colab_type": "code",
        "outputId": "7e9688b3-fe5e-4a2e-ac47-667287a5f934",
        "colab": {
          "base_uri": "https://localhost:8080/",
          "height": 391
        }
      },
      "source": [
        "model.summary()"
      ],
      "execution_count": 11,
      "outputs": [
        {
          "output_type": "stream",
          "text": [
            "Model: \"sequential\"\n",
            "_________________________________________________________________\n",
            "Layer (type)                 Output Shape              Param #   \n",
            "=================================================================\n",
            "conv2d (Conv2D)              (None, 28, 28, 32)        320       \n",
            "_________________________________________________________________\n",
            "max_pooling2d (MaxPooling2D) (None, 14, 14, 32)        0         \n",
            "_________________________________________________________________\n",
            "conv2d_1 (Conv2D)            (None, 14, 14, 64)        18496     \n",
            "_________________________________________________________________\n",
            "max_pooling2d_1 (MaxPooling2 (None, 7, 7, 64)          0         \n",
            "_________________________________________________________________\n",
            "flatten (Flatten)            (None, 3136)              0         \n",
            "_________________________________________________________________\n",
            "dense (Dense)                (None, 128)               401536    \n",
            "_________________________________________________________________\n",
            "dense_1 (Dense)              (None, 10)                1290      \n",
            "=================================================================\n",
            "Total params: 421,642\n",
            "Trainable params: 421,642\n",
            "Non-trainable params: 0\n",
            "_________________________________________________________________\n"
          ],
          "name": "stdout"
        }
      ]
    },
    {
      "cell_type": "code",
      "metadata": {
        "id": "xBVZ9p9M6f1q",
        "colab_type": "code",
        "colab": {}
      },
      "source": [
        "model.compile(loss=\"sparse_categorical_crossentropy\",optimizer=\"sgd\",metrics=[\"accuracy\"])"
      ],
      "execution_count": 0,
      "outputs": []
    },
    {
      "cell_type": "code",
      "metadata": {
        "id": "GHledsLk73Hf",
        "colab_type": "code",
        "outputId": "131956cc-91af-4e3d-fed2-82b14ef4c8f8",
        "colab": {
          "base_uri": "https://localhost:8080/",
          "height": 425
        }
      },
      "source": [
        "history = model.fit(X_train, y_train, epochs=12,validation_data=(X_valid, y_valid))"
      ],
      "execution_count": 13,
      "outputs": [
        {
          "output_type": "stream",
          "text": [
            "Epoch 1/12\n",
            "1719/1719 [==============================] - 62s 36ms/step - loss: 0.5506 - accuracy: 0.8327 - val_loss: 0.2147 - val_accuracy: 0.9310\n",
            "Epoch 2/12\n",
            "1719/1719 [==============================] - 61s 35ms/step - loss: 0.1517 - accuracy: 0.9545 - val_loss: 0.1343 - val_accuracy: 0.9610\n",
            "Epoch 3/12\n",
            "1719/1719 [==============================] - 60s 35ms/step - loss: 0.1025 - accuracy: 0.9687 - val_loss: 0.0793 - val_accuracy: 0.9754\n",
            "Epoch 4/12\n",
            "1719/1719 [==============================] - 60s 35ms/step - loss: 0.0802 - accuracy: 0.9760 - val_loss: 0.0674 - val_accuracy: 0.9786\n",
            "Epoch 5/12\n",
            "1719/1719 [==============================] - 60s 35ms/step - loss: 0.0677 - accuracy: 0.9797 - val_loss: 0.0652 - val_accuracy: 0.9796\n",
            "Epoch 6/12\n",
            "1719/1719 [==============================] - 61s 36ms/step - loss: 0.0579 - accuracy: 0.9819 - val_loss: 0.0561 - val_accuracy: 0.9838\n",
            "Epoch 7/12\n",
            "1719/1719 [==============================] - 62s 36ms/step - loss: 0.0512 - accuracy: 0.9839 - val_loss: 0.0601 - val_accuracy: 0.9834\n",
            "Epoch 8/12\n",
            "1719/1719 [==============================] - 63s 37ms/step - loss: 0.0458 - accuracy: 0.9858 - val_loss: 0.0512 - val_accuracy: 0.9844\n",
            "Epoch 9/12\n",
            "1719/1719 [==============================] - 63s 36ms/step - loss: 0.0413 - accuracy: 0.9873 - val_loss: 0.0521 - val_accuracy: 0.9842\n",
            "Epoch 10/12\n",
            "1719/1719 [==============================] - 63s 37ms/step - loss: 0.0369 - accuracy: 0.9883 - val_loss: 0.0501 - val_accuracy: 0.9870\n",
            "Epoch 11/12\n",
            "1719/1719 [==============================] - 63s 37ms/step - loss: 0.0345 - accuracy: 0.9888 - val_loss: 0.0449 - val_accuracy: 0.9874\n",
            "Epoch 12/12\n",
            "1719/1719 [==============================] - 64s 37ms/step - loss: 0.0317 - accuracy: 0.9901 - val_loss: 0.0472 - val_accuracy: 0.9870\n"
          ],
          "name": "stdout"
        }
      ]
    },
    {
      "cell_type": "markdown",
      "metadata": {
        "id": "wIluTc-KJCSW",
        "colab_type": "text"
      },
      "source": [
        "# Visualize performance"
      ]
    },
    {
      "cell_type": "code",
      "metadata": {
        "id": "gasi5V_Q77F9",
        "colab_type": "code",
        "outputId": "ba3aece9-278e-4547-9692-2374e2057096",
        "colab": {
          "base_uri": "https://localhost:8080/",
          "height": 324
        }
      },
      "source": [
        "pd.DataFrame(history.history).plot(figsize=(8, 5))\n",
        "plt.grid(True)\n",
        "plt.gca().set_ylim(0, 1) # set the vertical range to [0-1]\n",
        "plt.show()"
      ],
      "execution_count": 14,
      "outputs": [
        {
          "output_type": "display_data",
          "data": {
            "image/png": "[encoded data removed]",
            "text/plain": [
              "<Figure size 576x360 with 1 Axes>"
            ]
          },
          "metadata": {
            "tags": [],
            "needs_background": "light"
          }
        }
      ]
    },
    {
      "cell_type": "code",
      "metadata": {
        "id": "5RWbpQWj8B8d",
        "colab_type": "code",
        "outputId": "b714231e-b28b-44f3-d5bb-cad6304777bf",
        "colab": {
          "base_uri": "https://localhost:8080/",
          "height": 51
        }
      },
      "source": [
        "model.evaluate(X_test,y_test)"
      ],
      "execution_count": 15,
      "outputs": [
        {
          "output_type": "stream",
          "text": [
            "313/313 [==============================] - 3s 11ms/step - loss: 6.0057 - accuracy: 0.9851\n"
          ],
          "name": "stdout"
        },
        {
          "output_type": "execute_result",
          "data": {
            "text/plain": [
              "[6.005655288696289, 0.9850999712944031]"
            ]
          },
          "metadata": {
            "tags": []
          },
          "execution_count": 15
        }
      ]
    },
    {
      "cell_type": "markdown",
      "metadata": {
        "id": "SSDcxZqcJKp5",
        "colab_type": "text"
      },
      "source": [
        "# Make prediction"
      ]
    },
    {
      "cell_type": "code",
      "metadata": {
        "id": "N_29x1SHZKSq",
        "colab_type": "code",
        "outputId": "fc2ff39f-89d9-4224-8602-371f2e3b441d",
        "colab": {
          "base_uri": "https://localhost:8080/",
          "height": 34
        }
      },
      "source": [
        "img = X_test[0]\n",
        "# Reshape image\n",
        "new_img = img.reshape((img.shape[0], -1))\n",
        "new_img.shape"
      ],
      "execution_count": 16,
      "outputs": [
        {
          "output_type": "execute_result",
          "data": {
            "text/plain": [
              "(28, 28)"
            ]
          },
          "metadata": {
            "tags": []
          },
          "execution_count": 16
        }
      ]
    },
    {
      "cell_type": "code",
      "metadata": {
        "id": "t76yTT0b8Cl_",
        "colab_type": "code",
        "outputId": "33fcf563-34dd-412b-e094-be2383212ff1",
        "colab": {
          "base_uri": "https://localhost:8080/",
          "height": 45
        }
      },
      "source": [
        "Image.fromarray(new_img)"
      ],
      "execution_count": 17,
      "outputs": [
        {
          "output_type": "execute_result",
          "data": {
            "image/png": "[encoded data removed]",
            "text/plain": [
              "<PIL.Image.Image image mode=L size=28x28 at 0x7F831C368AC8>"
            ]
          },
          "metadata": {
            "tags": []
          },
          "execution_count": 17
        }
      ]
    },
    {
      "cell_type": "code",
      "metadata": {
        "id": "2f2_zLKv8IMz",
        "colab_type": "code",
        "outputId": "cc28c959-216a-40b0-8bd7-5963822fb1b1",
        "colab": {
          "base_uri": "https://localhost:8080/",
          "height": 34
        }
      },
      "source": [
        "np.argmax(model.predict(X_test[0:1]),axis=1)"
      ],
      "execution_count": 18,
      "outputs": [
        {
          "output_type": "execute_result",
          "data": {
            "text/plain": [
              "array([7])"
            ]
          },
          "metadata": {
            "tags": []
          },
          "execution_count": 18
        }
      ]
    },
    {
      "cell_type": "code",
      "metadata": {
        "id": "FCjGOkIKadfc",
        "colab_type": "code",
        "colab": {}
      },
      "source": [
        ""
      ],
      "execution_count": 0,
      "outputs": []
    }
  ]
}