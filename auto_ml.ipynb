{
  "nbformat": 4,
  "nbformat_minor": 0,
  "metadata": {
    "kernelspec": {
      "display_name": "Python 2",
      "language": "python",
      "name": "python2"
    },
    "language_info": {
      "codemirror_mode": {
        "name": "ipython",
        "version": 2
      },
      "file_extension": ".py",
      "mimetype": "text/x-python",
      "name": "python",
      "nbconvert_exporter": "python",
      "pygments_lexer": "ipython2",
      "version": "2.7.14"
    },
    "colab": {
      "name": "auto_ml.ipynb",
      "provenance": [],
      "collapsed_sections": []
    }
  },
  "cells": [
    {
      "cell_type": "code",
      "metadata": {
        "id": "xC7w0VUmtnui",
        "colab_type": "code",
        "colab": {}
      },
      "source": [
        "!pip install auto_ml"
      ],
      "execution_count": 0,
      "outputs": []
    },
    {
      "cell_type": "code",
      "metadata": {
        "id": "kc-AZaIKtJnd",
        "colab_type": "code",
        "colab": {}
      },
      "source": [
        "from auto_ml import Predictor\n",
        "from auto_ml.utils_models import load_ml_model\n",
        "from sklearn.model_selection import train_test_split\n",
        "import pandas as pd\n",
        "import tensorflow as tf\n",
        "import numpy as np\n",
        "import keras"
      ],
      "execution_count": 0,
      "outputs": []
    },
    {
      "cell_type": "code",
      "metadata": {
        "id": "MlAcA8ght3Lt",
        "colab_type": "code",
        "colab": {}
      },
      "source": [
        "import json\n",
        "import os\n",
        "from google.colab import drive"
      ],
      "execution_count": 0,
      "outputs": []
    },
    {
      "cell_type": "code",
      "metadata": {
        "id": "qnsN6CiEt5Kk",
        "colab_type": "code",
        "colab": {}
      },
      "source": [
        "drive.mount('/content/gdrive')"
      ],
      "execution_count": 0,
      "outputs": []
    },
    {
      "cell_type": "markdown",
      "metadata": {
        "id": "LToOc4qmduql",
        "colab_type": "text"
      },
      "source": [
        "# Set Kaggle Credentials"
      ]
    },
    {
      "cell_type": "code",
      "metadata": {
        "id": "CftJR4o2uCUH",
        "colab_type": "code",
        "colab": {}
      },
      "source": [
        "with open(\"/content/gdrive/My Drive/ML/Dev/kaggle.json\") as json_data:\n",
        "  kaggle_creds = json.load(json_data)\n",
        "\n",
        "os.environ['KAGGLE_USERNAME'] = kaggle_creds[\"username\"]\n",
        "os.environ['KAGGLE_KEY'] = kaggle_creds[\"key\"]"
      ],
      "execution_count": 0,
      "outputs": []
    },
    {
      "cell_type": "markdown",
      "metadata": {
        "id": "wyEDVuGMuHOp",
        "colab_type": "text"
      },
      "source": [
        "# Dowload Data"
      ]
    },
    {
      "cell_type": "code",
      "metadata": {
        "id": "EKyNXQAWuMwo",
        "colab_type": "code",
        "colab": {
          "base_uri": "https://localhost:8080/",
          "height": 187
        },
        "outputId": "f79f0364-f124-45f9-cd0f-3212fe6d234d"
      },
      "source": [
        "!kaggle competitions download -c titanic"
      ],
      "execution_count": 6,
      "outputs": [
        {
          "output_type": "stream",
          "text": [
            "Warning: Looks like you're using an outdated API Version, please consider updating (server 1.5.6 / client 1.5.4)\n",
            "Downloading gender_submission.csv to /content\n",
            "  0% 0.00/3.18k [00:00<?, ?B/s]\n",
            "100% 3.18k/3.18k [00:00<00:00, 2.90MB/s]\n",
            "Downloading test.csv to /content\n",
            "  0% 0.00/28.0k [00:00<?, ?B/s]\n",
            "100% 28.0k/28.0k [00:00<00:00, 23.0MB/s]\n",
            "Downloading train.csv to /content\n",
            "  0% 0.00/59.8k [00:00<?, ?B/s]\n",
            "100% 59.8k/59.8k [00:00<00:00, 60.8MB/s]\n"
          ],
          "name": "stdout"
        }
      ]
    },
    {
      "cell_type": "markdown",
      "metadata": {
        "id": "9TLtHdXWuOvH",
        "colab_type": "text"
      },
      "source": [
        "# Read Data"
      ]
    },
    {
      "cell_type": "code",
      "metadata": {
        "id": "V_XThojwtJnj",
        "colab_type": "code",
        "colab": {}
      },
      "source": [
        "df_train = pd.read_csv(\"/content/train.csv\")"
      ],
      "execution_count": 0,
      "outputs": []
    },
    {
      "cell_type": "code",
      "metadata": {
        "id": "9UZI5_0UtJnn",
        "colab_type": "code",
        "colab": {
          "base_uri": "https://localhost:8080/",
          "height": 111
        },
        "outputId": "e270b011-a508-4e7e-8dfe-158ca1ecb7c4"
      },
      "source": [
        "df_train.head(2)"
      ],
      "execution_count": 53,
      "outputs": [
        {
          "output_type": "execute_result",
          "data": {
            "text/plain": [
              "   PassengerId  Survived  Pclass  ...     Fare Cabin  Embarked\n",
              "0            1         0       3  ...   7.2500   NaN         S\n",
              "1            2         1       1  ...  71.2833   C85         C\n",
              "\n",
              "[2 rows x 12 columns]"
            ],
            "text/html": [
              "<div>\n",
              "<style scoped>\n",
              "    .dataframe tbody tr th:only-of-type {\n",
              "        vertical-align: middle;\n",
              "    }\n",
              "\n",
              "    .dataframe tbody tr th {\n",
              "        vertical-align: top;\n",
              "    }\n",
              "\n",
              "    .dataframe thead th {\n",
              "        text-align: right;\n",
              "    }\n",
              "</style>\n",
              "<table border=\"1\" class=\"dataframe\">\n",
              "  <thead>\n",
              "    <tr style=\"text-align: right;\">\n",
              "      <th></th>\n",
              "      <th>PassengerId</th>\n",
              "      <th>Survived</th>\n",
              "      <th>Pclass</th>\n",
              "      <th>Name</th>\n",
              "      <th>Sex</th>\n",
              "      <th>Age</th>\n",
              "      <th>SibSp</th>\n",
              "      <th>Parch</th>\n",
              "      <th>Ticket</th>\n",
              "      <th>Fare</th>\n",
              "      <th>Cabin</th>\n",
              "      <th>Embarked</th>\n",
              "    </tr>\n",
              "  </thead>\n",
              "  <tbody>\n",
              "    <tr>\n",
              "      <th>0</th>\n",
              "      <td>1</td>\n",
              "      <td>0</td>\n",
              "      <td>3</td>\n",
              "      <td>Braund, Mr. Owen Harris</td>\n",
              "      <td>male</td>\n",
              "      <td>22.0</td>\n",
              "      <td>1</td>\n",
              "      <td>0</td>\n",
              "      <td>A/5 21171</td>\n",
              "      <td>7.2500</td>\n",
              "      <td>NaN</td>\n",
              "      <td>S</td>\n",
              "    </tr>\n",
              "    <tr>\n",
              "      <th>1</th>\n",
              "      <td>2</td>\n",
              "      <td>1</td>\n",
              "      <td>1</td>\n",
              "      <td>Cumings, Mrs. John Bradley (Florence Briggs Th...</td>\n",
              "      <td>female</td>\n",
              "      <td>38.0</td>\n",
              "      <td>1</td>\n",
              "      <td>0</td>\n",
              "      <td>PC 17599</td>\n",
              "      <td>71.2833</td>\n",
              "      <td>C85</td>\n",
              "      <td>C</td>\n",
              "    </tr>\n",
              "  </tbody>\n",
              "</table>\n",
              "</div>"
            ]
          },
          "metadata": {
            "tags": []
          },
          "execution_count": 53
        }
      ]
    },
    {
      "cell_type": "markdown",
      "metadata": {
        "id": "Qj9KGOGRuYOm",
        "colab_type": "text"
      },
      "source": [
        "# Prepare data"
      ]
    },
    {
      "cell_type": "code",
      "metadata": {
        "id": "AiMvdT65tJnt",
        "colab_type": "code",
        "colab": {}
      },
      "source": [
        "df_train = df_train.drop([\"Name\",\"Ticket\",\"Cabin\"],axis=1)"
      ],
      "execution_count": 0,
      "outputs": []
    },
    {
      "cell_type": "code",
      "metadata": {
        "id": "ZD0nBFJEtJny",
        "colab_type": "code",
        "colab": {}
      },
      "source": [
        "df_train = df_train.fillna(0)"
      ],
      "execution_count": 0,
      "outputs": []
    },
    {
      "cell_type": "markdown",
      "metadata": {
        "id": "x9ifaQwMvHpg",
        "colab_type": "text"
      },
      "source": [
        "# Build Features, Targets and Train/Test"
      ]
    },
    {
      "cell_type": "code",
      "metadata": {
        "id": "wDSwj89cwf0q",
        "colab_type": "code",
        "colab": {}
      },
      "source": [
        "msk = np.random.rand(len(df_train)) < 0.8\n",
        "train = df_train[msk]\n",
        "test = df_train[~msk]"
      ],
      "execution_count": 0,
      "outputs": []
    },
    {
      "cell_type": "code",
      "metadata": {
        "id": "CuJrf9Hpwr6j",
        "colab_type": "code",
        "colab": {
          "base_uri": "https://localhost:8080/",
          "height": 68
        },
        "outputId": "fbf14ee4-39c4-44d0-c8f7-404076064483"
      },
      "source": [
        "train.columns"
      ],
      "execution_count": 58,
      "outputs": [
        {
          "output_type": "execute_result",
          "data": {
            "text/plain": [
              "Index([u'PassengerId', u'Survived', u'Pclass', u'Sex', u'Age', u'SibSp',\n",
              "       u'Parch', u'Fare', u'Embarked'],\n",
              "      dtype='object')"
            ]
          },
          "metadata": {
            "tags": []
          },
          "execution_count": 58
        }
      ]
    },
    {
      "cell_type": "code",
      "metadata": {
        "scrolled": true,
        "id": "CZJ16arFtJn3",
        "colab_type": "code",
        "colab": {
          "base_uri": "https://localhost:8080/",
          "height": 1000
        },
        "outputId": "8d641122-f730-4e5e-a261-1c29684cac61"
      },
      "source": [
        "column_descriptions = {\n",
        "    'Survived': 'output',\n",
        "    'Sex': 'categorical',\n",
        "    'Embarked': 'categorical',\n",
        "    'Name': 'ignore',\n",
        "    'Ticket': 'ignore',\n",
        "    'Cabin': 'ignore',\n",
        "    'PassengerId' : 'ignore',\n",
        "    'Pclass' : 'ignore'\n",
        "}\n",
        "# it is not necessary to specify numerical columns, default type\n",
        "\n",
        "ml_predictor = Predictor(type_of_estimator='classifier', column_descriptions=column_descriptions)\n",
        "\n",
        "ml_predictor.train(train)\n",
        "\n",
        "test_score = ml_predictor.score(test,test.Survived)"
      ],
      "execution_count": 59,
      "outputs": [
        {
          "output_type": "stream",
          "text": [
            "Welcome to auto_ml! We're about to go through and make sense of your data using machine learning, and give you a production-ready pipeline to get predictions with.\n",
            "\n",
            "If you have any issues, or new feature ideas, let us know at http://auto.ml\n",
            "You are running on version 2.9.10\n",
            "Now using the model training_params that you passed in:\n",
            "{}\n",
            "After overwriting our defaults with your values, here are the final params that will be used to initialize the model:\n",
            "{'presort': False, 'warm_start': True, 'learning_rate': 0.1}\n",
            "Running basic data cleaning\n",
            "Fitting DataFrameVectorizer\n",
            "Now using the model training_params that you passed in:\n",
            "{}\n",
            "After overwriting our defaults with your values, here are the final params that will be used to initialize the model:\n",
            "{'presort': False, 'warm_start': True, 'learning_rate': 0.1}\n",
            "\n",
            "\n",
            "********************************************************************************************\n",
            "About to fit the pipeline for the model GradientBoostingClassifier to predict Survived\n",
            "Started at:\n",
            "2020-05-09 14:36:07\n",
            "[1] random_holdout_set_from_training_data's score is: -0.205\n",
            "[2] random_holdout_set_from_training_data's score is: -0.193\n",
            "[3] random_holdout_set_from_training_data's score is: -0.184\n",
            "[4] random_holdout_set_from_training_data's score is: -0.177\n",
            "[5] random_holdout_set_from_training_data's score is: -0.172\n",
            "[6] random_holdout_set_from_training_data's score is: -0.169\n",
            "[7] random_holdout_set_from_training_data's score is: -0.166\n",
            "[8] random_holdout_set_from_training_data's score is: -0.164\n",
            "[9] random_holdout_set_from_training_data's score is: -0.161\n",
            "[10] random_holdout_set_from_training_data's score is: -0.161\n",
            "[11] random_holdout_set_from_training_data's score is: -0.16\n",
            "[12] random_holdout_set_from_training_data's score is: -0.16\n",
            "[13] random_holdout_set_from_training_data's score is: -0.158\n",
            "[14] random_holdout_set_from_training_data's score is: -0.158\n",
            "[15] random_holdout_set_from_training_data's score is: -0.157\n",
            "[16] random_holdout_set_from_training_data's score is: -0.158\n",
            "[17] random_holdout_set_from_training_data's score is: -0.158\n",
            "[18] random_holdout_set_from_training_data's score is: -0.156\n",
            "[19] random_holdout_set_from_training_data's score is: -0.156\n",
            "[20] random_holdout_set_from_training_data's score is: -0.157\n",
            "[21] random_holdout_set_from_training_data's score is: -0.157\n",
            "[22] random_holdout_set_from_training_data's score is: -0.157\n",
            "[23] random_holdout_set_from_training_data's score is: -0.157\n",
            "[24] random_holdout_set_from_training_data's score is: -0.156\n",
            "[25] random_holdout_set_from_training_data's score is: -0.156\n",
            "[26] random_holdout_set_from_training_data's score is: -0.156\n",
            "[27] random_holdout_set_from_training_data's score is: -0.156\n",
            "[28] random_holdout_set_from_training_data's score is: -0.155\n",
            "[29] random_holdout_set_from_training_data's score is: -0.155\n",
            "[30] random_holdout_set_from_training_data's score is: -0.156\n",
            "[31] random_holdout_set_from_training_data's score is: -0.155\n",
            "[32] random_holdout_set_from_training_data's score is: -0.156\n",
            "[33] random_holdout_set_from_training_data's score is: -0.157\n",
            "[34] random_holdout_set_from_training_data's score is: -0.157\n",
            "[35] random_holdout_set_from_training_data's score is: -0.157\n",
            "[36] random_holdout_set_from_training_data's score is: -0.156\n",
            "[37] random_holdout_set_from_training_data's score is: -0.156\n",
            "[38] random_holdout_set_from_training_data's score is: -0.156\n",
            "[39] random_holdout_set_from_training_data's score is: -0.155\n",
            "[40] random_holdout_set_from_training_data's score is: -0.156\n",
            "[41] random_holdout_set_from_training_data's score is: -0.156\n",
            "[42] random_holdout_set_from_training_data's score is: -0.156\n",
            "[43] random_holdout_set_from_training_data's score is: -0.157\n",
            "[44] random_holdout_set_from_training_data's score is: -0.157\n",
            "[45] random_holdout_set_from_training_data's score is: -0.157\n",
            "[46] random_holdout_set_from_training_data's score is: -0.157\n",
            "[47] random_holdout_set_from_training_data's score is: -0.157\n",
            "[48] random_holdout_set_from_training_data's score is: -0.157\n",
            "[49] random_holdout_set_from_training_data's score is: -0.157\n",
            "[50] random_holdout_set_from_training_data's score is: -0.157\n",
            "[52] random_holdout_set_from_training_data's score is: -0.156\n",
            "The number of estimators that were the best for this training dataset: 31\n",
            "The best score on the holdout set: -0.15512868576397254\n",
            "Finished training the pipeline!\n",
            "Total training time:\n",
            "0:00:00\n",
            "\n",
            "\n",
            "Here are the results from our GradientBoostingClassifier\n",
            "predicting Survived\n",
            "Calculating feature responses, for advanced analytics.\n",
            "The printed list will only contain at most the top 100 features.\n",
            "+----+----------------+--------------+----------+-------------------+-------------------+-----------+-----------+-----------+-----------+\n",
            "|    | Feature Name   |   Importance |    Delta |   FR_Decrementing |   FR_Incrementing |   FRD_abs |   FRI_abs |   FRD_MAD |   FRI_MAD |\n",
            "|----+----------------+--------------+----------+-------------------+-------------------+-----------+-----------+-----------+-----------|\n",
            "|  5 | Embarked=0     |       0.0000 | nan      |          nan      |          nan      |  nan      |  nan      |  nan      |  nan      |\n",
            "|  7 | Embarked=S     |       0.0000 | nan      |          nan      |          nan      |  nan      |  nan      |  nan      |  nan      |\n",
            "|  4 | Embarked=Q     |       0.0012 | nan      |          nan      |          nan      |  nan      |  nan      |  nan      |  nan      |\n",
            "|  6 | Embarked=C     |       0.0034 | nan      |          nan      |          nan      |  nan      |  nan      |  nan      |  nan      |\n",
            "|  2 | Parch          |       0.0557 |   0.4144 |            0.0000 |            0.0000 |    0.0000 |    0.0000 |    0.0000 |    0.0000 |\n",
            "|  1 | SibSp          |       0.0616 |   0.5474 |            0.0062 |           -0.0183 |    0.0068 |    0.0199 |    0.0000 |    0.0000 |\n",
            "|  0 | Age            |       0.0644 |   8.7965 |            0.0121 |            0.0223 |    0.0269 |    0.0365 |    0.0000 |    0.0063 |\n",
            "|  3 | Fare           |       0.1810 |  24.2652 |           -0.0644 |            0.1144 |    0.0734 |    0.1226 |    0.0254 |    0.1462 |\n",
            "|  9 | Sex=female     |       0.2746 | nan      |          nan      |          nan      |  nan      |  nan      |  nan      |  nan      |\n",
            "|  8 | Sex=male       |       0.3582 | nan      |          nan      |          nan      |  nan      |  nan      |  nan      |  nan      |\n",
            "+----+----------------+--------------+----------+-------------------+-------------------+-----------+-----------+-----------+-----------+\n",
            "\n",
            "\n",
            "*******\n",
            "Legend:\n",
            "Importance = Feature Importance\n",
            "     Explanation: A weighted measure of how much of the variance the model is able to explain is due to this column\n",
            "FR_delta = Feature Response Delta Amount\n",
            "     Explanation: Amount this column was incremented or decremented by to calculate the feature reponses\n",
            "FR_Decrementing = Feature Response From Decrementing Values In This Column By One FR_delta\n",
            "     Explanation: Represents how much the predicted output values respond to subtracting one FR_delta amount from every value in this column\n",
            "FR_Incrementing = Feature Response From Incrementing Values In This Column By One FR_delta\n",
            "     Explanation: Represents how much the predicted output values respond to adding one FR_delta amount to every value in this column\n",
            "FRD_MAD = Feature Response From Decrementing- Median Absolute Delta\n",
            "     Explanation: Takes the absolute value of all changes in predictions, then takes the median of those. Useful for seeing if decrementing this feature provokes strong changes that are both positive and negative\n",
            "FRI_MAD = Feature Response From Incrementing- Median Absolute Delta\n",
            "     Explanation: Takes the absolute value of all changes in predictions, then takes the median of those. Useful for seeing if incrementing this feature provokes strong changes that are both positive and negative\n",
            "FRD_abs = Feature Response From Decrementing Avg Absolute Change\n",
            "     Explanation: What is the average absolute change in predicted output values to subtracting one FR_delta amount to every value in this column. Useful for seeing if output is sensitive to a feature, but not in a uniformly positive or negative way\n",
            "FRI_abs = Feature Response From Incrementing Avg Absolute Change\n",
            "     Explanation: What is the average absolute change in predicted output values to adding one FR_delta amount to every value in this column. Useful for seeing if output is sensitive to a feature, but not in a uniformly positive or negative way\n",
            "*******\n",
            "\n",
            "Here is our brier-score-loss, which is the default value we optimized for while training, and is the value returned from .score() unless you requested a custom scoring metric\n",
            "It is a measure of how close the PROBABILITY predictions are.\n",
            "0.1501\n",
            "\n",
            "Here is the trained estimator's overall accuracy (when it predicts a label, how frequently is that the correct label?)\n",
            "78.2%\n",
            "\n",
            "Here is a confusion matrix showing predictions vs. actuals by label:\n",
            "Predicted >    0   1  All\n",
            "v Actual v               \n",
            "0             89  12  101\n",
            "1             25  44   69\n",
            "All          114  56  170\n",
            "\n",
            "Here is predictive value by class:\n",
            "('Class: ', 0, '=', 0.7807017543859649)\n",
            "('Class: ', 1, '=', 0.7857142857142857)\n",
            "+-----------------+-----------------------------------+--------------------------------+\n",
            "| Bucket Edges    |   Predicted Probability Of Bucket |   Actual Probability of Bucket |\n",
            "|-----------------+-----------------------------------+--------------------------------|\n",
            "| (0.0797, 0.117] |                            0.1055 |                         0.1111 |\n",
            "| (0.117, 0.135]  |                            0.1327 |                         0.0000 |\n",
            "| (0.135, 0.141]  |                            0.1410 |                         0.3333 |\n",
            "| (0.141, 0.171]  |                            0.1611 |                         0.1250 |\n",
            "| (0.171, 0.317]  |                            0.2402 |                         0.1111 |\n",
            "| (0.317, 0.38]   |                            0.3492 |                         0.4706 |\n",
            "| (0.38, 0.573]   |                            0.4833 |                         0.6250 |\n",
            "| (0.573, 0.751]  |                            0.6743 |                         0.6111 |\n",
            "| (0.751, 0.842]  |                            0.7893 |                         0.7500 |\n",
            "| (0.842, 0.936]  |                            0.8938 |                         1.0000 |\n",
            "+-----------------+-----------------------------------+--------------------------------+\n",
            "\n",
            "Here is the accuracy of our trained estimator at each level of predicted probabilities\n",
            "For a verbose description of what this means, please visit the docs:\n",
            "http://auto-ml.readthedocs.io/en/latest/analytics.html#interpreting-predicted-probability-buckets-for-classifiers\n",
            "\n",
            "\n",
            "\n"
          ],
          "name": "stdout"
        }
      ]
    },
    {
      "cell_type": "code",
      "metadata": {
        "id": "ewqHjAJr3_KJ",
        "colab_type": "code",
        "colab": {}
      },
      "source": [
        "file_name = ml_predictor.save(\"/content/model\")"
      ],
      "execution_count": 0,
      "outputs": []
    },
    {
      "cell_type": "code",
      "metadata": {
        "id": "EByQgiva4wvN",
        "colab_type": "code",
        "colab": {}
      },
      "source": [
        ""
      ],
      "execution_count": 0,
      "outputs": []
    },
    {
      "cell_type": "markdown",
      "metadata": {
        "id": "7p5uq-nQ4xx2",
        "colab_type": "text"
      },
      "source": [
        "# Make Prediction - Print the prediction for the first 10 passengers"
      ]
    },
    {
      "cell_type": "code",
      "metadata": {
        "scrolled": true,
        "id": "c58YXwXctJn7",
        "colab_type": "code",
        "colab": {}
      },
      "source": [
        "trained_model = load_ml_model(file_name)"
      ],
      "execution_count": 0,
      "outputs": []
    },
    {
      "cell_type": "code",
      "metadata": {
        "id": "g7gA-tRX4bnT",
        "colab_type": "code",
        "colab": {}
      },
      "source": [
        "py_cls = []\n",
        "for label,predict in zip(test.iloc[0:10][\"Survived\"],trained_model.predict(test)):\n",
        "  py_cls.append({\"truth\":label,\"predict\":predict})"
      ],
      "execution_count": 0,
      "outputs": []
    },
    {
      "cell_type": "code",
      "metadata": {
        "id": "eSQJWGaM4eLX",
        "colab_type": "code",
        "colab": {
          "base_uri": "https://localhost:8080/",
          "height": 187
        },
        "outputId": "85f5c238-430f-428c-c81f-3f6ed6d11822"
      },
      "source": [
        "py_cls"
      ],
      "execution_count": 70,
      "outputs": [
        {
          "output_type": "execute_result",
          "data": {
            "text/plain": [
              "[{'predict': 0, 'truth': 0},\n",
              " {'predict': 1, 'truth': 1},\n",
              " {'predict': 0, 'truth': 1},\n",
              " {'predict': 0, 'truth': 0},\n",
              " {'predict': 1, 'truth': 1},\n",
              " {'predict': 0, 'truth': 0},\n",
              " {'predict': 1, 'truth': 1},\n",
              " {'predict': 1, 'truth': 0},\n",
              " {'predict': 0, 'truth': 0},\n",
              " {'predict': 0, 'truth': 0}]"
            ]
          },
          "metadata": {
            "tags": []
          },
          "execution_count": 70
        }
      ]
    },
    {
      "cell_type": "code",
      "metadata": {
        "id": "nR3uZS0P504t",
        "colab_type": "code",
        "colab": {}
      },
      "source": [
        ""
      ],
      "execution_count": 0,
      "outputs": []
    }
  ]
}